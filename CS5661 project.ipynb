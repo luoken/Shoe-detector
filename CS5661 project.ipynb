{
 "cells": [
  {
   "cell_type": "code",
   "execution_count": 1,
   "metadata": {
    "collapsed": true
   },
   "outputs": [],
   "source": [
    "import requests\n",
    "from bs4 import BeautifulSoup\n",
    "import urllib"
   ]
  },
  {
   "cell_type": "markdown",
   "metadata": {},
   "source": [
    "# Footlocker"
   ]
  },
  {
   "cell_type": "code",
   "execution_count": 40,
   "metadata": {
    "collapsed": true
   },
   "outputs": [],
   "source": [
    "def saveImg(link, name):\n",
    "    urllib.request.urlretrieve(link, './footlocker/nike/images/' + str(name))"
   ]
  },
  {
   "cell_type": "code",
   "execution_count": 42,
   "metadata": {
    "collapsed": true
   },
   "outputs": [],
   "source": [
    "nikedata = []\n",
    "nikelinks = []\n",
    "for i in range(1,14):\n",
    "    file = open('./footlocker/nike/footlockernikepg' + str(i) + '.html', 'r')\n",
    "    soup = BeautifulSoup(file, 'html.parser')\n",
    "    div_id = soup.find('div', {'id': 'endeca_search_results'})\n",
    "    for k in div_id.find_all('li', {'class': 'clearRow'}):\n",
    "        k.decompose()\n",
    "    li_in_div = div_id.find_all('li')\n",
    "    \n",
    "    for k in li_in_div:\n",
    "        nikedata.append(k.find('img').get('src'))\n",
    "    \n",
    "for i in nikedata:\n",
    "    useless, links = i.split('//')\n",
    "    nikelinks.append(links)\n",
    "\n",
    "for index, i in enumerate(nikelinks):\n",
    "    saveImg('http://'+ str(i), 'footlockerNike' + str(index) + '.jpg')\n",
    "# for index, i in enumerate(nikelinks):\n",
    "#     print(index)\n",
    "#     print(i)\n"
   ]
  },
  {
   "cell_type": "code",
   "execution_count": 45,
   "metadata": {
    "collapsed": true
   },
   "outputs": [],
   "source": [
    "vansdata = []\n",
    "vanslinks = []\n",
    "file = open('./footlocker/vans/footlockervans.html', 'r')\n",
    "soup = BeautifulSoup(file, 'html.parser')\n",
    "div_id = soup.find('div', {'id': 'endeca_search_results'})\n",
    "for k in div_id.find_all('li', {'class': 'clearRow'}):\n",
    "    k.decompose()\n",
    "li_in_div = div_id.find_all('li')\n",
    "    \n",
    "for k in li_in_div:\n",
    "    vansdata.append(k.find('img').get('src'))\n",
    "        \n",
    "for i in vansdata:\n",
    "    useless, links = i.split('//')\n",
    "    vanslinks.append(links)\n",
    "    \n",
    "for index, i in enumerate(vanslinks):\n",
    "    urllib.request.urlretrieve('https://' + str(i), './footlocker/vans/images/footlockerVans' + str(index) + '.jpg')"
   ]
  },
  {
   "cell_type": "code",
   "execution_count": 47,
   "metadata": {
    "collapsed": true
   },
   "outputs": [],
   "source": [
    "adidasdata = []\n",
    "adidaslinks = []\n",
    "for i in range(1,6):\n",
    "    file = open('./footlocker/adidas/footlockeradidaspg' + str(i) + '.html', 'r')\n",
    "    soup = BeautifulSoup(file, 'html.parser')\n",
    "    div_id = soup.find('div', {'id': 'endeca_search_results'})\n",
    "    for k in div_id.find_all('li', {'class': 'clearRow'}):\n",
    "        k.decompose()\n",
    "    li_in_div = div_id.find_all('li')\n",
    "    \n",
    "    for k in li_in_div:\n",
    "        adidasdata.append(k.find('img').get('src'))\n",
    "        \n",
    "for i in adidasdata:\n",
    "    useless, links = i.split('//')\n",
    "    adidaslinks.append(links)\n",
    "\n",
    "for index, i in enumerate(adidaslinks):\n",
    "    urllib.request.urlretrieve('https://' + str(i), './footlocker/adidas/images/footlockerAdidas' + str(index) + '.jpg')"
   ]
  },
  {
   "cell_type": "markdown",
   "metadata": {},
   "source": [
    "# Zappos\n"
   ]
  },
  {
   "cell_type": "code",
   "execution_count": 6,
   "metadata": {},
   "outputs": [],
   "source": [
    "zapposadidas = []\n",
    "for count in range(1,8):\n",
    "    file = open('./zappos/adidas/zapposadidaspg' + str(count) + '.html', 'r')\n",
    "    soup = BeautifulSoup(file, 'html.parser')\n",
    "    div_class = soup.find_all('div', class_ = '_1Mgpu')\n",
    "    for i in div_class:\n",
    "        zapposadidas.append(i.find('img').get('src'))\n",
    "        \n",
    "for index, i in enumerate(zapposadidas):\n",
    "    urllib.request.urlretrieve(str(i), './zappos/adidas/images/zapposAdidas' + str(index) + '.jpg')\n"
   ]
  },
  {
   "cell_type": "code",
   "execution_count": 7,
   "metadata": {},
   "outputs": [],
   "source": [
    "zapposnike = []\n",
    "for count in range(1,8):\n",
    "    file = open('./zappos/nike/zapposnikepg' + str(count) + '.html', 'r')\n",
    "    soup = BeautifulSoup(file, 'html.parser')\n",
    "    div_class = soup.find_all('div', class_ = '_1Mgpu')\n",
    "    for i in div_class:\n",
    "        zapposnike.append(i.find('img').get('src'))\n",
    "        \n",
    "for index, i in enumerate(zapposnike):\n",
    "    urllib.request.urlretrieve(str(i), './zappos/nike/images/zapposnike' + str(index) + '.jpg')\n",
    "    \n",
    "\n",
    "\n"
   ]
  },
  {
   "cell_type": "code",
   "execution_count": 8,
   "metadata": {},
   "outputs": [],
   "source": [
    "zapposvans = []\n",
    "for count in range(1,7):\n",
    "    file = open('./zappos/vans/zapposvanspg' + str(count) + '.html', 'r')\n",
    "    soup = BeautifulSoup(file, 'html.parser')\n",
    "    div_class = soup.find_all('div', class_ = '_1Mgpu')\n",
    "    for i in div_class:\n",
    "        zapposvans.append(i.find('img').get('src'))\n",
    "\n",
    "for index, i in enumerate(zapposvans):\n",
    "    urllib.request.urlretrieve(str(i), './zappos/vans/images/zapposvans' + str(index) + '.jpg')\n"
   ]
  },
  {
   "cell_type": "code",
   "execution_count": 55,
   "metadata": {
    "collapsed": true
   },
   "outputs": [],
   "source": [
    "vansvansdata = []\n",
    "vansvanslink = []\n",
    "file = open('./vans/vans.html', 'r')\n",
    "soup = BeautifulSoup(file, 'html.parser')\n",
    "all_pics = soup.find_all('picture', class_='product-block-views-container views-container-js')\n",
    "for i in all_pics:\n",
    "    vansvansdata.append(i.find('img').get('srcset'))\n",
    "\n",
    "for i in vansvansdata:\n",
    "    useless, links = i.split('//')\n",
    "    vansvanslink.append(links)\n",
    "\n",
    "for index, i in enumerate(vansvanslink):\n",
    "    urllib.request.urlretrieve('https://' + str(i), './vans/images/vansvans' + str(index) + '.jpg')"
   ]
  }
 ],
 "metadata": {
  "kernelspec": {
   "display_name": "Python 3",
   "language": "python",
   "name": "python3"
  },
  "language_info": {
   "codemirror_mode": {
    "name": "ipython",
    "version": 3
   },
   "file_extension": ".py",
   "mimetype": "text/x-python",
   "name": "python",
   "nbconvert_exporter": "python",
   "pygments_lexer": "ipython3",
   "version": "3.5.2"
  }
 },
 "nbformat": 4,
 "nbformat_minor": 2
}
